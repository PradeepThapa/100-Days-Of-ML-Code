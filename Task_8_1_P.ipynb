{
  "nbformat": 4,
  "nbformat_minor": 0,
  "metadata": {
    "colab": {
      "name": "Task 8.1 P.ipynb",
      "provenance": [],
      "collapsed_sections": [],
      "mount_file_id": "1BTXYiCvEgdYCAar_50LlTxVSbtc5jS7S",
      "authorship_tag": "ABX9TyOO90GdXqHj/5SSrvY4zpWh",
      "include_colab_link": true
    },
    "kernelspec": {
      "name": "python3",
      "display_name": "Python 3"
    },
    "language_info": {
      "name": "python"
    }
  },
  "cells": [
    {
      "cell_type": "markdown",
      "metadata": {
        "id": "view-in-github",
        "colab_type": "text"
      },
      "source": [
        "<a href=\"https://colab.research.google.com/github/PradeepThapa/100-Days-Of-ML-Code/blob/master/Task_8_1_P.ipynb\" target=\"_parent\"><img src=\"https://colab.research.google.com/assets/colab-badge.svg\" alt=\"Open In Colab\"/></a>"
      ]
    },
    {
      "cell_type": "code",
      "metadata": {
        "colab": {
          "base_uri": "https://localhost:8080/"
        },
        "id": "Q0gSjyP5J2Tw",
        "outputId": "9f451687-120e-4086-a8d5-d2374dee9d37"
      },
      "source": [
        "# install requirements\n",
        "!pip install gym\n",
        "!apt-get update\n",
        "!apt-get -qq -y install xvfb freeglut3-dev ffmpeg> /dev/null\n",
        "!apt-get install xvfb\n",
        "!pip install pyvirtualdisplay\n",
        "!pip -q install pyglet\n",
        "!pip -q install pyopengl"
      ],
      "execution_count": 52,
      "outputs": [
        {
          "output_type": "stream",
          "text": [
            "Requirement already satisfied: gym in /usr/local/lib/python3.7/dist-packages (0.17.3)\n",
            "Requirement already satisfied: scipy in /usr/local/lib/python3.7/dist-packages (from gym) (1.4.1)\n",
            "Requirement already satisfied: cloudpickle<1.7.0,>=1.2.0 in /usr/local/lib/python3.7/dist-packages (from gym) (1.3.0)\n",
            "Requirement already satisfied: numpy>=1.10.4 in /usr/local/lib/python3.7/dist-packages (from gym) (1.19.5)\n",
            "Requirement already satisfied: pyglet<=1.5.0,>=1.4.0 in /usr/local/lib/python3.7/dist-packages (from gym) (1.5.0)\n",
            "Requirement already satisfied: future in /usr/local/lib/python3.7/dist-packages (from pyglet<=1.5.0,>=1.4.0->gym) (0.16.0)\n",
            "Hit:1 http://security.ubuntu.com/ubuntu bionic-security InRelease\n",
            "Hit:2 https://cloud.r-project.org/bin/linux/ubuntu bionic-cran40/ InRelease\n",
            "Ign:3 https://developer.download.nvidia.com/compute/cuda/repos/ubuntu1804/x86_64  InRelease\n",
            "Ign:4 https://developer.download.nvidia.com/compute/machine-learning/repos/ubuntu1804/x86_64  InRelease\n",
            "Hit:5 http://ppa.launchpad.net/c2d4u.team/c2d4u4.0+/ubuntu bionic InRelease\n",
            "Hit:6 https://developer.download.nvidia.com/compute/cuda/repos/ubuntu1804/x86_64  Release\n",
            "Hit:7 https://developer.download.nvidia.com/compute/machine-learning/repos/ubuntu1804/x86_64  Release\n",
            "Hit:8 http://archive.ubuntu.com/ubuntu bionic InRelease\n",
            "Hit:9 http://archive.ubuntu.com/ubuntu bionic-updates InRelease\n",
            "Hit:10 http://ppa.launchpad.net/cran/libgit2/ubuntu bionic InRelease\n",
            "Hit:11 http://archive.ubuntu.com/ubuntu bionic-backports InRelease\n",
            "Hit:12 http://ppa.launchpad.net/deadsnakes/ppa/ubuntu bionic InRelease\n",
            "Hit:13 http://ppa.launchpad.net/graphics-drivers/ppa/ubuntu bionic InRelease\n",
            "Reading package lists... Done\n",
            "Reading package lists... Done\n",
            "Building dependency tree       \n",
            "Reading state information... Done\n",
            "xvfb is already the newest version (2:1.19.6-1ubuntu4.9).\n",
            "The following package was automatically installed and is no longer required:\n",
            "  libnvidia-common-460\n",
            "Use 'apt autoremove' to remove it.\n",
            "0 upgraded, 0 newly installed, 0 to remove and 60 not upgraded.\n",
            "Requirement already satisfied: pyvirtualdisplay in /usr/local/lib/python3.7/dist-packages (2.1)\n",
            "Requirement already satisfied: EasyProcess in /usr/local/lib/python3.7/dist-packages (from pyvirtualdisplay) (0.3)\n"
          ],
          "name": "stdout"
        }
      ]
    },
    {
      "cell_type": "code",
      "metadata": {
        "colab": {
          "base_uri": "https://localhost:8080/"
        },
        "id": "m9pne0OtR0Ki",
        "outputId": "5764f5b2-a758-4c7e-99e1-3f1e9e16c0db"
      },
      "source": [
        "# BOX2D Let you use the bipedal agent and environment\n",
        "# Pybullet is you key to physical simulations and a good alternative to MOJOCO which can cost you\n",
        "\n",
        "!apt-get install swig\n",
        "!pip install box2d box2d-kengz\n",
        "!pip install pybullet"
      ],
      "execution_count": 53,
      "outputs": [
        {
          "output_type": "stream",
          "text": [
            "Reading package lists... Done\n",
            "Building dependency tree       \n",
            "Reading state information... Done\n",
            "swig is already the newest version (3.0.12-1).\n",
            "The following package was automatically installed and is no longer required:\n",
            "  libnvidia-common-460\n",
            "Use 'apt autoremove' to remove it.\n",
            "0 upgraded, 0 newly installed, 0 to remove and 60 not upgraded.\n",
            "Requirement already satisfied: box2d in /usr/local/lib/python3.7/dist-packages (2.3.10)\n",
            "Requirement already satisfied: box2d-kengz in /usr/local/lib/python3.7/dist-packages (2.3.3)\n",
            "Requirement already satisfied: pybullet in /usr/local/lib/python3.7/dist-packages (3.1.7)\n"
          ],
          "name": "stdout"
        }
      ]
    },
    {
      "cell_type": "code",
      "metadata": {
        "id": "nI2g2Z3zJ-VB",
        "colab": {
          "base_uri": "https://localhost:8080/"
        },
        "outputId": "f71bd28b-7145-4406-c757-12c47ed1d74a"
      },
      "source": [
        "import gym\n",
        "env = gym.make(\"BipedalWalker-v3\")"
      ],
      "execution_count": 54,
      "outputs": [
        {
          "output_type": "stream",
          "text": [
            "/usr/local/lib/python3.7/dist-packages/gym/logger.py:30: UserWarning: \u001b[33mWARN: Box bound precision lowered by casting to float32\u001b[0m\n",
            "  warnings.warn(colorize('%s: %s'%('WARN', msg % args), 'yellow'))\n"
          ],
          "name": "stderr"
        }
      ]
    },
    {
      "cell_type": "code",
      "metadata": {
        "id": "qy1EAdtYKCF3"
      },
      "source": [
        "# imports\n",
        "import collections\n",
        "import gym\n",
        "import numpy as np\n",
        "import statistics\n",
        "import tensorflow as tf\n",
        "import tqdm\n",
        "\n",
        "from matplotlib import pyplot as plt\n",
        "from tensorflow.keras import layers\n",
        "from typing import Any, List, Sequence, Tuple\n",
        "import Box2D"
      ],
      "execution_count": 55,
      "outputs": []
    },
    {
      "cell_type": "code",
      "metadata": {
        "id": "pAUd7KhMKEvY"
      },
      "source": [
        "# Set seed for experiment reproducibility\n",
        "seed = 4233\n",
        "env.seed(seed)\n",
        "tf.random.set_seed(seed)\n",
        "np.random.seed(seed)\n",
        "\n",
        "# Small epsilon value for stabilizing division operations\n",
        "eps = np.finfo(np.float32).eps.item()"
      ],
      "execution_count": 56,
      "outputs": []
    },
    {
      "cell_type": "code",
      "metadata": {
        "id": "sE62gUuAkUoZ"
      },
      "source": [
        "# ===========================\n",
        "#   Replay Buffer\n",
        "# credit\n",
        "'''\n",
        "https://gym.openai.com/evaluations/eval_IU3wehAQQRuJRbzMjy26QQ/\n",
        "'''\n",
        "# ===========================\n",
        "class ReplayBuffer(object):\n",
        "    def __init__(self, buffer_size, random_seed=None):\n",
        "        \"\"\"\n",
        "        The right side of the deque contains the most recent experiences\n",
        "        The buffer stores a number of past experiences to stochastically sample from\n",
        "        \"\"\"\n",
        "        self.buffer_size = buffer_size\n",
        "        self.count = 0\n",
        "        self.buffer = deque(maxlen=self.buffer_size)\n",
        "        self.seed = random_seed\n",
        "        if self.seed is not None:\n",
        "            random.seed(self.seed)\n",
        "\n",
        "    def add(self, state, action, reward, t, s2):\n",
        "        experience = (state, action, reward, t, s2)\n",
        "        self.buffer.append(experience)\n",
        "        self.count += 1\n",
        "\n",
        "    def size(self):\n",
        "        return self.count\n",
        "\n",
        "    def sample_batch(self, batch_size):\n",
        "        if self.count < batch_size:\n",
        "            batch = random.sample(self.buffer, self.count)\n",
        "        else:\n",
        "            batch = random.sample(self.buffer, batch_size)\n",
        "\n",
        "        s_batch = np.array([_[0] for _ in batch])\n",
        "        a_batch = np.array([_[1] for _ in batch])\n",
        "        r_batch = np.array([_[2] for _ in batch]).reshape(batch_size, -1)\n",
        "        t_batch = np.array([_[3] for _ in batch]).reshape(batch_size, -1)\n",
        "        s2_batch = np.array([_[4] for _ in batch])\n",
        "        return s_batch, a_batch, r_batch, t_batch, s2_batch\n",
        "\n",
        "    def clear(self):\n",
        "        self.buffer.clear()\n",
        "        self.count = 0"
      ],
      "execution_count": 57,
      "outputs": []
    },
    {
      "cell_type": "code",
      "metadata": {
        "id": "0cOkgbQ-KY2M"
      },
      "source": [
        "class ActorCritic(tf.keras.Model):\n",
        "  \"\"\"Combined actor-critic network.\"\"\"\n",
        "\n",
        "  def __init__(\n",
        "      self, \n",
        "      num_actions: int, \n",
        "      num_hidden_units: int):\n",
        "    \"\"\"Initialize.\"\"\"\n",
        "    super().__init__()\n",
        "\n",
        "    self.common = layers.Dense(num_hidden_units, activation=\"relu\")\n",
        "    self.actor = layers.Dense(num_actions)\n",
        "    self.critic = layers.Dense(1)\n",
        "\n",
        "  def call(self, inputs: tf.Tensor) -> Tuple[tf.Tensor, tf.Tensor]:\n",
        "    x = self.common(inputs)\n",
        "    return self.actor(x), self.critic(x)"
      ],
      "execution_count": 58,
      "outputs": []
    },
    {
      "cell_type": "code",
      "metadata": {
        "id": "j1Uc6AJyUszH"
      },
      "source": [
        "num_actions = env.action_space.shape[0]  # 2\n",
        "num_hidden_units = 256\n",
        "\n",
        "model = ActorCritic(num_actions, num_hidden_units)"
      ],
      "execution_count": 59,
      "outputs": []
    },
    {
      "cell_type": "code",
      "metadata": {
        "id": "mVf_cRSOUwY-"
      },
      "source": [
        "# step function of open ai to tensorflow\n",
        "def env_step(action):\n",
        "  \"\"\"Returns state, reward and done flag given an action.\"\"\"\n",
        "\n",
        "\n",
        "  state, reward, done, _ = env.step(action)\n",
        "  return (state.astype(np.float32), \n",
        "          np.array(reward, np.int32), \n",
        "          np.array(done, np.int32))\n",
        "\n",
        "\n",
        "def tf_env_step(action):\n",
        "  return tf.numpy_function(env_step, [action], \n",
        "                           [tf.float32, tf.int32, tf.int32])"
      ],
      "execution_count": 60,
      "outputs": []
    },
    {
      "cell_type": "code",
      "metadata": {
        "id": "yoeEz6m2Vafa"
      },
      "source": [
        "# run episode to collect training data\n",
        "def run_episode(\n",
        "    initial_state: tf.Tensor,  \n",
        "    model: tf.keras.Model, \n",
        "    max_steps: int) -> List[tf.Tensor]:\n",
        "\n",
        "  action_probs = tf.TensorArray(dtype=tf.float32, size=0, dynamic_size=True)\n",
        "  values = tf.TensorArray(dtype=tf.float32, size=0, dynamic_size=True)\n",
        "  rewards = tf.TensorArray(dtype=tf.int32, size=0, dynamic_size=True)\n",
        "\n",
        "  initial_state_shape = initial_state.shape\n",
        "  state = initial_state\n",
        "\n",
        "  for t in tf.range(max_steps):\n",
        "    # Convert state into a batched tensor (batch size = 1)\n",
        "    state = tf.expand_dims(state, 0)\n",
        "\n",
        "    # Run the model and to get action probabilities and critic value\n",
        "    action_logits_t, value = model(state)\n",
        "\n",
        "    # Sample next action from the action probability distribution\n",
        "    action = tf.random.categorical(action_logits_t, 1)[0, 0]\n",
        "    action_probs_t = tf.nn.softmax(action_logits_t)\n",
        "\n",
        "    # Store critic values\n",
        "    values = values.write(t, tf.squeeze(value))\n",
        "\n",
        "    # Store log probability of the action chosen\n",
        "    action_probs = action_probs.write(t, action_probs_t[0, action])\n",
        "\n",
        "    # Apply action to the environment to get next state and reward\n",
        "    action = env.action_space.sample()\n",
        "    state, reward, done = tf_env_step(action)\n",
        "    print(reward)\n",
        "    state.set_shape(initial_state_shape)\n",
        "\n",
        "     # Store reward\n",
        "    rewards = rewards.write(t, reward)\n",
        "\n",
        "    if tf.cast(done, tf.bool):\n",
        "      break\n",
        "\n",
        "  action_probs = action_probs.stack()\n",
        "  values = values.stack()\n",
        "  rewards = rewards.stack()\n",
        "\n",
        "  return action_probs, values, rewards"
      ],
      "execution_count": 61,
      "outputs": []
    },
    {
      "cell_type": "code",
      "metadata": {
        "id": "radE1gyZVdbx"
      },
      "source": [
        "\"\"\"Compute expected returns per timestep.\"\"\"\n",
        "def get_expected_return(\n",
        "    rewards: tf.Tensor, \n",
        "    gamma: float, \n",
        "    standardize: bool = True) -> tf.Tensor:\n",
        "\n",
        "  n = tf.shape(rewards)[0]\n",
        "  returns = tf.TensorArray(dtype=tf.float32, size=n)\n",
        "\n",
        "  # Start from the end of `rewards` and accumulate reward sums\n",
        "  # into the `returns` array\n",
        "  rewards = tf.cast(rewards[::-1], dtype=tf.float32)\n",
        "  discounted_sum = tf.constant(0.0)\n",
        "  discounted_sum_shape = discounted_sum.shape\n",
        "  for i in tf.range(n):\n",
        "    reward = rewards[i]\n",
        "    discounted_sum = reward + gamma * discounted_sum\n",
        "    discounted_sum.set_shape(discounted_sum_shape)\n",
        "    returns = returns.write(i, discounted_sum)\n",
        "  returns = returns.stack()[::-1]\n",
        "\n",
        "  if standardize:\n",
        "    returns = ((returns - tf.math.reduce_mean(returns)) / \n",
        "               (tf.math.reduce_std(returns) + eps))\n",
        "\n",
        "  return returns"
      ],
      "execution_count": 62,
      "outputs": []
    },
    {
      "cell_type": "code",
      "metadata": {
        "id": "apBs8_V6Vfv4"
      },
      "source": [
        "huber_loss = tf.keras.losses.Huber(reduction=tf.keras.losses.Reduction.SUM)\n",
        "\n",
        "# compute loss\n",
        "def compute_loss(\n",
        "    action_probs,  \n",
        "    values,  \n",
        "    returns) -> tf.Tensor:\n",
        "  \"\"\"Computes the combined actor-critic loss.\"\"\"\n",
        "\n",
        "  advantage = returns - values\n",
        "\n",
        "  action_log_probs = tf.math.log(action_probs)\n",
        "  actor_loss = -tf.math.reduce_sum(action_log_probs * advantage)\n",
        "\n",
        "  critic_loss = huber_loss(values, returns)\n",
        "\n",
        "  return actor_loss + critic_loss"
      ],
      "execution_count": 63,
      "outputs": []
    },
    {
      "cell_type": "code",
      "metadata": {
        "id": "jK36UTyuViI2"
      },
      "source": [
        "optimizer = tf.keras.optimizers.Adam(learning_rate=10) #learning rate is according to author's suggestion\n",
        "\n",
        "# calculate gradient and estimate the gradient\n",
        "\n",
        "@tf.function\n",
        "def train_step(\n",
        "    initial_state,\n",
        "    model, \n",
        "    optimizer, \n",
        "    gamma, \n",
        "    max_steps_per_episode):\n",
        "\n",
        "  with tf.GradientTape() as tape:\n",
        "\n",
        "    # Run the model for one episode to collect training data\n",
        "    action_probs, values, rewards = run_episode(initial_state, model, max_steps_per_episode) \n",
        "    print(rewards)\n",
        "\n",
        "    # Calculate expected returns\n",
        "    returns = get_expected_return(rewards, gamma)\n",
        "\n",
        "    # Convert training data to appropriate TF tensor shapes\n",
        "    action_probs, values, returns = [\n",
        "        tf.expand_dims(x, 1) for x in [action_probs, values, returns]] \n",
        "\n",
        "    # Calculating loss values to update our network\n",
        "    loss = compute_loss(action_probs, values, returns)\n",
        "\n",
        "  # Compute the gradients from the loss\n",
        "  grads = tape.gradient(loss, model.trainable_variables)\n",
        "\n",
        "  # Apply the gradients to the model's parameters\n",
        "  optimizer.apply_gradients(zip(grads, model.trainable_variables))\n",
        "\n",
        "  episode_reward = tf.math.reduce_sum(rewards)\n",
        "\n",
        "  return episode_reward"
      ],
      "execution_count": 64,
      "outputs": []
    },
    {
      "cell_type": "code",
      "metadata": {
        "colab": {
          "base_uri": "https://localhost:8080/"
        },
        "id": "n4UOAxgWVlMm",
        "outputId": "cdc2e592-40dd-402e-9822-5b2c1d4336cc"
      },
      "source": [
        "min_episodes_criterion = 100\n",
        "max_episodes = 2000\n",
        "max_steps_per_episode = 100\n",
        "\n",
        "# considered solved if average reward is >= 300 over 100 \n",
        "# consecutive trials\n",
        "reward_threshold = 300\n",
        "running_reward = -500\n",
        "\n",
        "# Discount factor for future rewards\n",
        "gamma = 0.995\n",
        "\n",
        "# Keep last episodes reward\n",
        "episodes_reward: collections.deque = collections.deque(maxlen=min_episodes_criterion)\n",
        "cumreward = []\n",
        "\n",
        "for i in range(max_episodes):\n",
        "  initial_state = tf.constant(env.reset(), dtype=tf.float32)\n",
        "  episode_reward = int(train_step(initial_state, model, optimizer, gamma, max_steps_per_episode))\n",
        "  #print(episode_reward)\n",
        "  \n",
        "  episodes_reward.append(episode_reward)\n",
        "  running_reward = statistics.mean(episodes_reward)\n",
        "  cumreward.append((i, running_reward))\n",
        "\n",
        "  # Show average episode reward every 10 episodes\n",
        "  if i % 10 == 0:\n",
        "    pass #print(f'Episode {i}: average reward: {avg_reward}')\n",
        "\n",
        "  if running_reward > reward_threshold:  \n",
        "      break\n",
        "  elif i >= min_episodes_criterion:\n",
        "    break\n",
        "    \n",
        "\n",
        "print(f'\\nSolved at episode {i}: average reward: {running_reward:.2f}!')"
      ],
      "execution_count": 65,
      "outputs": [
        {
          "output_type": "stream",
          "text": [
            "Tensor(\"while/PyFunc:1\", dtype=int32, device=/job:localhost/replica:0/task:0)\n",
            "Tensor(\"TensorArrayV2Stack_2/TensorListStack:0\", dtype=int32)\n",
            "Tensor(\"while/PyFunc:1\", dtype=int32, device=/job:localhost/replica:0/task:0)\n",
            "Tensor(\"TensorArrayV2Stack_2/TensorListStack:0\", dtype=int32)\n",
            "\n",
            "Solved at episode 100: average reward: -2.00!\n"
          ],
          "name": "stdout"
        }
      ]
    },
    {
      "cell_type": "code",
      "metadata": {
        "colab": {
          "base_uri": "https://localhost:8080/",
          "height": 455
        },
        "id": "FoF9iseDcN64",
        "outputId": "40fc3519-d93e-405e-ea9e-ff183fbc2f94"
      },
      "source": [
        "import matplotlib.pyplot as plt\n",
        "\n",
        "# plot cummulative reward per episodes\n",
        "Rx = [x for x, y in cumreward]\n",
        "Ry = [y for x, y in cumreward]\n",
        "'''Ry = np.cumsum(Ry)\n",
        "Ry = Ry.tolist()'''\n",
        "\n",
        "plt.figure(figsize=(20, 12))\n",
        "plt.plot(Rx, Ry,color='green')\n",
        "plt.title('Average Reward Per Episodes', fontsize=14)\n",
        "plt.xlabel('Episode', fontsize=14)\n",
        "plt.ylabel('Average Reward', fontsize=14)\n",
        "plt.grid(False)\n",
        "plt.show()"
      ],
      "execution_count": 66,
      "outputs": [
        {
          "output_type": "display_data",
          "data": {
            "image/png": "[encoded data removed]",
            "text/plain": [
              "<Figure size 1440x864 with 1 Axes>"
            ]
          },
          "metadata": {
            "tags": [],
            "needs_background": "light"
          }
        }
      ]
    },
    {
      "cell_type": "markdown",
      "metadata": {
        "id": "nkAoUwVsbDsr"
      },
      "source": [
        "# Pendulum enviroment"
      ]
    },
    {
      "cell_type": "code",
      "metadata": {
        "id": "4jWmFifu7VMg"
      },
      "source": [
        "import gym\n",
        "import tensorflow as tf\n",
        "env = gym.make('Pendulum-v0')"
      ],
      "execution_count": 67,
      "outputs": []
    },
    {
      "cell_type": "code",
      "metadata": {
        "colab": {
          "base_uri": "https://localhost:8080/",
          "height": 555
        },
        "id": "Tn12yp9FeP7b",
        "outputId": "557a79fe-2127-4364-c254-94ddee226c89"
      },
      "source": [
        "class ActorCritic(tf.keras.Model):\n",
        "  \"\"\"Combined actor-critic network.\"\"\"\n",
        "\n",
        "  def __init__(\n",
        "      self, \n",
        "      num_actions: int, \n",
        "      num_hidden_units: int):\n",
        "    \"\"\"Initialize.\"\"\"\n",
        "    super().__init__()\n",
        "\n",
        "    self.common = layers.Dense(num_hidden_units, activation=\"relu\")\n",
        "    self.actor = layers.Dense(num_actions)\n",
        "    self.critic = layers.Dense(1)\n",
        "\n",
        "  def call(self, inputs: tf.Tensor) -> Tuple[tf.Tensor, tf.Tensor]:\n",
        "    x = self.common(inputs)\n",
        "    return self.actor(x), self.critic(x)\n",
        "\n",
        "\n",
        "num_actions = env.action_space.shape[0]  # 2\n",
        "num_hidden_units = 256\n",
        "\n",
        "model = ActorCritic(num_actions, num_hidden_units)\n",
        "\n",
        "\n",
        "# Wrap OpenAI Gym's `env.step` call as an operation in a TensorFlow function.\n",
        "# This would allow it to be included in a callable TensorFlow graph.\n",
        "\n",
        "def env_step(action):\n",
        "  \"\"\"Returns state, reward and done flag given an action.\"\"\"\n",
        "\n",
        "\n",
        "  state, reward, done, _ = env.step(action)\n",
        "  return (state.astype(np.float32), \n",
        "          np.array(reward, np.int32), \n",
        "          np.array(done, np.int32))\n",
        "\n",
        "\n",
        "def tf_env_step(action):\n",
        "  return tf.numpy_function(env_step, [action], \n",
        "                           [tf.float32, tf.int32, tf.int32])\n",
        "  \n",
        "\n",
        "def run_episode(\n",
        "    initial_state: tf.Tensor,  \n",
        "    model: tf.keras.Model, \n",
        "    max_steps: int) -> List[tf.Tensor]:\n",
        "  \"\"\"Runs a single episode to collect training data.\"\"\"\n",
        "\n",
        "  action_probs = tf.TensorArray(dtype=tf.float32, size=0, dynamic_size=True)\n",
        "  values = tf.TensorArray(dtype=tf.float32, size=0, dynamic_size=True)\n",
        "  rewards = tf.TensorArray(dtype=tf.int32, size=0, dynamic_size=True)\n",
        "\n",
        "  initial_state_shape = initial_state.shape\n",
        "  state = initial_state\n",
        "  actions = []\n",
        "\n",
        "  for t in tf.range(max_steps):\n",
        "    # Convert state into a batched tensor (batch size = 1)\n",
        "    state = tf.expand_dims(state, 0)\n",
        "\n",
        "    # Run the model and to get action probabilities and critic value\n",
        "    action_logits_t, value = model(state)\n",
        "\n",
        "    # Sample next action from the action probability distribution\n",
        "    action = tf.random.categorical(action_logits_t, 1)[0, 0]\n",
        "    action_probs_t = tf.nn.softmax(action_logits_t)\n",
        "\n",
        "    # Store critic values\n",
        "    values = values.write(t, tf.squeeze(value))\n",
        "\n",
        "    # Store log probability of the action chosen\n",
        "    action_probs = action_probs.write(t, action_probs_t[0, action])\n",
        "\n",
        "    # Apply action to the environment to get next state and reward\n",
        "    action = env.action_space.sample()\n",
        "    state, reward, done = tf_env_step(action)\n",
        "    print(reward)\n",
        "    state.set_shape(initial_state_shape)\n",
        "\n",
        "     # Store reward\n",
        "    rewards = rewards.write(t, reward)\n",
        "\n",
        "    if tf.cast(done, tf.bool):\n",
        "      break\n",
        "\n",
        "  action_probs = action_probs.stack()\n",
        "  values = values.stack()\n",
        "  rewards = rewards.stack()\n",
        "\n",
        "  return action_probs, values, rewards\n",
        "\n",
        "\n",
        "def get_expected_return(\n",
        "    rewards: tf.Tensor, \n",
        "    gamma: float, \n",
        "    standardize: bool = True) -> tf.Tensor:\n",
        "  \"\"\"Compute expected returns per timestep.\"\"\"\n",
        "\n",
        "  n = tf.shape(rewards)[0]\n",
        "  returns = tf.TensorArray(dtype=tf.float32, size=n)\n",
        "\n",
        "  # Start from the end of `rewards` and accumulate reward sums\n",
        "  # into the `returns` array\n",
        "  rewards = tf.cast(rewards[::-1], dtype=tf.float32)\n",
        "  discounted_sum = tf.constant(0.0)\n",
        "  discounted_sum_shape = discounted_sum.shape\n",
        "  for i in tf.range(n):\n",
        "    reward = rewards[i]\n",
        "    discounted_sum = reward + gamma * discounted_sum\n",
        "    discounted_sum.set_shape(discounted_sum_shape)\n",
        "    returns = returns.write(i, discounted_sum)\n",
        "  returns = returns.stack()[::-1]\n",
        "\n",
        "  if standardize:\n",
        "    returns = ((returns - tf.math.reduce_mean(returns)) / \n",
        "               (tf.math.reduce_std(returns) + eps))\n",
        "\n",
        "  return returns\n",
        "\n",
        "huber_loss = tf.keras.losses.Huber(reduction=tf.keras.losses.Reduction.SUM)\n",
        "\n",
        "def compute_loss(\n",
        "    action_probs,  \n",
        "    values,  \n",
        "    returns) -> tf.Tensor:\n",
        "  \"\"\"Computes the combined actor-critic loss.\"\"\"\n",
        "\n",
        "  advantage = returns - values\n",
        "\n",
        "  action_log_probs = tf.math.log(action_probs)\n",
        "  actor_loss = -tf.math.reduce_sum(action_log_probs * advantage)\n",
        "\n",
        "  critic_loss = huber_loss(values, returns)\n",
        "\n",
        "  return actor_loss + critic_loss\n",
        "\n",
        "\n",
        "optimizer = tf.keras.optimizers.Adam(learning_rate=10)\n",
        "\n",
        "\n",
        "# calculate gradient and estimate the gradient\n",
        "\n",
        "@tf.function\n",
        "def train_step(\n",
        "    initial_state,\n",
        "    model, \n",
        "    optimizer, \n",
        "    gamma, \n",
        "    max_steps_per_episode):\n",
        "\n",
        "  with tf.GradientTape() as tape:\n",
        "\n",
        "    # Run the model for one episode to collect training data\n",
        "    action_probs, values, rewards = run_episode(initial_state, model, max_steps_per_episode) \n",
        "    print(rewards)\n",
        "\n",
        "    # Calculate expected returns\n",
        "    returns = get_expected_return(rewards, gamma)\n",
        "\n",
        "    # Convert training data to appropriate TF tensor shapes\n",
        "    action_probs, values, returns = [\n",
        "        tf.expand_dims(x, 1) for x in [action_probs, values, returns]] \n",
        "\n",
        "    # Calculating loss values to update our network\n",
        "    loss = compute_loss(action_probs, values, returns)\n",
        "\n",
        "  # Compute the gradients from the loss\n",
        "  grads = tape.gradient(loss, model.trainable_variables)\n",
        "\n",
        "  # Apply the gradients to the model's parameters\n",
        "  optimizer.apply_gradients(zip(grads, model.trainable_variables))\n",
        "\n",
        "  episode_reward = tf.math.reduce_sum(rewards)\n",
        "\n",
        "  return episode_reward\n",
        "\n",
        "\n",
        "min_episodes_criterion = 100\n",
        "max_episodes = 2000\n",
        "max_steps_per_episode = 100\n",
        "\n",
        "# pendulum problem is solved when it is up\n",
        "# consecutive trials\n",
        "reward_threshold = 100\n",
        "running_reward = 0\n",
        "\n",
        "# Discount factor for future rewards\n",
        "gamma = 0.995\n",
        "\n",
        "# Keep last episodes reward\n",
        "episodes_reward: collections.deque = collections.deque(maxlen=min_episodes_criterion)\n",
        "cumreward = []\n",
        "\n",
        "for i in range(max_episodes):\n",
        "  initial_state = tf.constant(env.reset(), dtype=tf.float32)\n",
        "  episode_reward = int(train_step(initial_state, model, optimizer, gamma, max_steps_per_episode))\n",
        "  #print(episode_reward)\n",
        "  \n",
        "  episodes_reward.append(episode_reward)\n",
        "  running_reward = statistics.mean(episodes_reward)\n",
        "  #print(running_reward)\n",
        "  cumreward.append((i, running_reward))\n",
        "\n",
        "  # Show average episode reward every 10 episodes\n",
        "  if i % 10 == 0:\n",
        "    pass #print(f'Episode {i}: average reward: {avg_reward}')\n",
        "\n",
        "  if running_reward > reward_threshold:  \n",
        "      break\n",
        "  elif i >= min_episodes_criterion:\n",
        "    break\n",
        "    \n",
        "\n",
        "print(f'\\nSolved at episode {i}: average reward: {running_reward:.2f}!')\n",
        "\n",
        "import matplotlib.pyplot as plt\n",
        "\n",
        "# plot cummulative reward per episodes\n",
        "Rx = [x for x, y in cumreward]\n",
        "Ry = [y for x, y in cumreward]\n",
        "'''Ry = np.cumsum(Ry)\n",
        "Ry = Ry.tolist()'''\n",
        "\n",
        "plt.figure(figsize=(20, 12))\n",
        "plt.plot(Rx, Ry,color='green')\n",
        "plt.title('Average Reward Per Episodes', fontsize=14)\n",
        "plt.xlabel('Episode', fontsize=14)\n",
        "plt.ylabel('Average Reward', fontsize=14)\n",
        "plt.grid(False)\n",
        "plt.show()"
      ],
      "execution_count": 68,
      "outputs": [
        {
          "output_type": "stream",
          "text": [
            "Tensor(\"while/PyFunc:1\", dtype=int32, device=/job:localhost/replica:0/task:0)\n",
            "Tensor(\"TensorArrayV2Stack_2/TensorListStack:0\", dtype=int32)\n",
            "Tensor(\"while/PyFunc:1\", dtype=int32, device=/job:localhost/replica:0/task:0)\n",
            "Tensor(\"TensorArrayV2Stack_2/TensorListStack:0\", dtype=int32)\n",
            "\n",
            "Solved at episode 100: average reward: -618.48!\n"
          ],
          "name": "stdout"
        },
        {
          "output_type": "display_data",
          "data": {
            "image/png": "[encoded data removed]",
            "text/plain": [
              "<Figure size 1440x864 with 1 Axes>"
            ]
          },
          "metadata": {
            "tags": [],
            "needs_background": "light"
          }
        }
      ]
    }
  ]
}